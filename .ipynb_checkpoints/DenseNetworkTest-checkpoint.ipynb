{
 "cells": [
  {
   "cell_type": "markdown",
   "id": "1dfa6915-4669-44fb-a92d-fddd99f45640",
   "metadata": {},
   "source": [
    "# Dense Network"
   ]
  },
  {
   "cell_type": "markdown",
   "id": "01cc95d1-ed67-401f-8db0-996d382818ae",
   "metadata": {},
   "source": [
    "### Preprocess data as numpy"
   ]
  },
  {
   "cell_type": "code",
   "execution_count": null,
   "id": "8d5505e3-2382-47ad-b12f-84f1decb9370",
   "metadata": {},
   "outputs": [
    {
     "name": "stderr",
     "output_type": "stream",
     "text": [
      "2025-02-19 03:26:44.145545: E external/local_xla/xla/stream_executor/cuda/cuda_fft.cc:477] Unable to register cuFFT factory: Attempting to register factory for plugin cuFFT when one has already been registered\n",
      "WARNING: All log messages before absl::InitializeLog() is called are written to STDERR\n",
      "E0000 00:00:1739935604.158076    1457 cuda_dnn.cc:8310] Unable to register cuDNN factory: Attempting to register factory for plugin cuDNN when one has already been registered\n",
      "E0000 00:00:1739935604.161907    1457 cuda_blas.cc:1418] Unable to register cuBLAS factory: Attempting to register factory for plugin cuBLAS when one has already been registered\n",
      "2025-02-19 03:26:44.177076: I tensorflow/core/platform/cpu_feature_guard.cc:210] This TensorFlow binary is optimized to use available CPU instructions in performance-critical operations.\n",
      "To enable the following instructions: AVX2 FMA, in other operations, rebuild TensorFlow with the appropriate compiler flags.\n"
     ]
    },
    {
     "name": "stdout",
     "output_type": "stream",
     "text": [
      "Debugging Enabled...\n",
      "Skipping invalid image: ../RAW_CCTV_Images/landslides/flipped_0d38efb4-dab4-4509-843e-8f6036243a4c.jpg - Error: cannot identify image file '/home/jovyan/RAW_CCTV_Images/landslides/flipped_0d38efb4-dab4-4509-843e-8f6036243a4c.jpg'\n"
     ]
    }
   ],
   "source": [
    "import os\n",
    "from PIL import Image\n",
    "import numpy as np\n",
    "import pandas as pd\n",
    "import tensorflow as tf\n",
    "from tensorflow import keras\n",
    "from tensorflow.keras.models import Sequential\n",
    "from tensorflow.keras.layers import Dense, Activation, Dropout\n",
    "\n",
    "DEBUG = True\n",
    "\n",
    "if DEBUG:\n",
    "    print(\"Debugging Enabled...\")\n",
    "\n",
    "CSV_PATH = 'CSV_Data/initialCSVLabels.csv'\n",
    "TRAIN_CSV_PATH = 'CSV_Data/initialLabeledTrain.csv'\n",
    "TEST_CSV_PATH = 'CSV_Data/initialLabeledTest.csv'\n",
    "\n",
    "ImgSize = (320,260)\n",
    "NumClasses = 2  # Binary classification: normal (0) vs landslide (1)\n",
    "BatchSize = 128\n",
    "EpochNum = 50\n",
    "\n",
    "trainDataFrame = pd.read_csv(TRAIN_CSV_PATH)\n",
    "testDataFrame = pd.read_csv(TEST_CSV_PATH)\n",
    "\n",
    "def loadAndPreprocessImage(path):\n",
    "    try:\n",
    "        img = Image.open(path).convert(\"RGB\")  # Load image with PIL\n",
    "        img = np.array(img, dtype=np.float32) / 255.0  # Normalize\n",
    "        return img\n",
    "    except Exception as e:\n",
    "        print(f\"Skipping invalid image: {path} - Error: {e}\")\n",
    "        return None\n",
    "\n",
    "allResults = [] # to store results of all the runs\n",
    "\n",
    "# Load images and labels\n",
    "trainImages = np.array([loadAndPreprocessImage(path) for path in trainDataFrame[\"file_path\"]])\n",
    "trainLabels = np.array(train_df[\"label\"])\n",
    "testImages = np.array([loadAndPreprocessImage(path) for path in testDataFrame[\"file_path\"]])\n",
    "testLabels = np.array(test_df[\"label\"])\n",
    "\n",
    "# Convert labels to one-hot encoding (for softmax classification)\n",
    "trainLabels = to_categorical(trainLabels, num_classes=NumClasses)\n",
    "testLabels = to_categorical(testLabels, num_classes=NumClasses)\n",
    "\n",
    "# Split training data further into train and validation sets\n",
    "trainImages, valImages, trainLabels, valLabels = train_test_split(trainImages, trainLabels, test_size=0.2, random_state=42)\n",
    "\n",
    "if DEBUG:\n",
    "    print(f\"Train: {trainImages.shape}, {trainLabels.shape}\")\n",
    "    print(f\"Validation: {valImages.shape}, {valLabels.shape}\")\n",
    "    print(f\"Test: {testImages.shape}, {testLabels.shape}\")\n"
   ]
  },
  {
   "cell_type": "code",
   "execution_count": null,
   "id": "d9551a16-2426-4e7d-8f61-f0107eb8b00f",
   "metadata": {},
   "outputs": [],
   "source": [
    "if __name__ == '__main__':\n",
    "    if DEBUG:\n",
    "        print(f\"Train: {trainImages.shape}, {trainLabels.shape}\")\n",
    "        print(f\"Validation: {valImages.shape}, {valLabels.shape}\")\n",
    "        print(f\"Test: {testImages.shape}, {testLabels.shape}\")\n",
    "        \n",
    "    # trials = 15\n",
    "    # for i in range(trials):\n",
    "    #     results = denseNetwork(trainImages, trainLabels, valImages, valLabels, testImages, testLabels)\n",
    "    #     allResults.append(results)\n",
    "        \n",
    "    #     print(f'Random State: {i}\\nTest Accuracy: {100.0 * results[0]}\\nTest Loss: {results[1]}\\nTest Precision: {results[2]}')"
   ]
  }
 ],
 "metadata": {
  "kernelspec": {
   "display_name": "Python 3 (ipykernel)",
   "language": "python",
   "name": "python3"
  },
  "language_info": {
   "codemirror_mode": {
    "name": "ipython",
    "version": 3
   },
   "file_extension": ".py",
   "mimetype": "text/x-python",
   "name": "python",
   "nbconvert_exporter": "python",
   "pygments_lexer": "ipython3",
   "version": "3.11.9"
  }
 },
 "nbformat": 4,
 "nbformat_minor": 5
}
