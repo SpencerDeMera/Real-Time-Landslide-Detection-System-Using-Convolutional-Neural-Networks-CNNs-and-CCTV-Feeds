{
 "cells": [
  {
   "cell_type": "markdown",
   "id": "e0df9538-bbbc-4872-920c-15eda1d5dc34",
   "metadata": {},
   "source": [
    "## Unzip Original Image Files"
   ]
  },
  {
   "cell_type": "code",
   "execution_count": 2,
   "id": "5ca9844a-0601-4cf4-bd75-c2f03ebaa59d",
   "metadata": {},
   "outputs": [],
   "source": [
    "# import zipfile\n",
    "\n",
    "# files = zipfile.ZipFile(\"RAW_CCTV_Images.zip\", 'r')\n",
    "# files.extractall('RAW_CCTV_Images')\n",
    "# files.close()"
   ]
  },
  {
   "cell_type": "markdown",
   "id": "7de4b5cf-be38-4325-bf9c-782ce47ca64e",
   "metadata": {},
   "source": [
    "## Process and Label Train and Test Sets"
   ]
  },
  {
   "cell_type": "code",
   "execution_count": 8,
   "id": "ca3be090-d7e9-4016-a14d-20cf3164aff3",
   "metadata": {},
   "outputs": [
    {
     "name": "stdout",
     "output_type": "stream",
     "text": [
      "CSV saved to: CSV_Data/initialCSVLabels.csv\n",
      "Dataset split completed: CSV_Data/initialLabeledTrain.csv, CSV_Data/initialLabeledTest.csv\n"
     ]
    }
   ],
   "source": [
    "import os\n",
    "import random\n",
    "import pandas as pd\n",
    "from sklearn.model_selection import train_test_split\n",
    "\n",
    "LANDSLIDE_DIR = \"../RAW_CCTV_Images/landslides\"\n",
    "NORMAL_DIR = \"../RAW_CCTV_Images/standard\"\n",
    "\n",
    "CSV_PATH = 'CSV_Data/initialCSVLabels.csv'\n",
    "TRAIN_CSV_PATH = 'CSV_Data/initialLabeledTrain.csv'\n",
    "TEST_CSV_PATH = 'CSV_Data/initialLabeledTest.csv'\n",
    "\n",
    "# Ensure directories exist\n",
    "os.makedirs(os.path.dirname(CSV_PATH), exist_ok=True)\n",
    "os.makedirs(os.path.dirname(TRAIN_CSV_PATH), exist_ok=True)\n",
    "os.makedirs(os.path.dirname(TEST_CSV_PATH), exist_ok=True)\n",
    "\n",
    "# Create labels\n",
    "data = []\n",
    "\n",
    "# Assign label 0 for normal road images\n",
    "for img_name in os.listdir(NORMAL_DIR):\n",
    "    img_path = os.path.join(NORMAL_DIR, img_name)\n",
    "    if os.path.isfile(img_path):  # Ensure it's a file\n",
    "        data.append({\"file_path\": img_path, \"label\": 0})\n",
    "\n",
    "# Assign label 1 for landslide images\n",
    "for img_name in os.listdir(LANDSLIDE_DIR):\n",
    "    img_path = os.path.join(LANDSLIDE_DIR, img_name)\n",
    "    if os.path.isfile(img_path):  # Ensure it's a file\n",
    "        data.append({\"file_path\": img_path, \"label\": 1})\n",
    "\n",
    "# Save to CSV\n",
    "df = pd.DataFrame(data)\n",
    "df.to_csv(CSV_PATH, index=False)\n",
    "\n",
    "print(f\"CSV saved to: {CSV_PATH}\")\n",
    "\n",
    "# Split dataset\n",
    "train, test = train_test_split(df, test_size=0.2, random_state=42)\n",
    "\n",
    "# Save splits\n",
    "train.to_csv(TRAIN_CSV_PATH, index=False)\n",
    "test.to_csv(TEST_CSV_PATH, index=False)\n",
    "\n",
    "print(f\"Dataset split completed: {TRAIN_CSV_PATH}, {TEST_CSV_PATH}\")\n"
   ]
  },
  {
   "cell_type": "code",
   "execution_count": null,
   "id": "a9f0a47a-8dd0-4610-be29-796c4466e5db",
   "metadata": {},
   "outputs": [],
   "source": []
  }
 ],
 "metadata": {
  "kernelspec": {
   "display_name": "Python 3 (ipykernel)",
   "language": "python",
   "name": "python3"
  },
  "language_info": {
   "codemirror_mode": {
    "name": "ipython",
    "version": 3
   },
   "file_extension": ".py",
   "mimetype": "text/x-python",
   "name": "python",
   "nbconvert_exporter": "python",
   "pygments_lexer": "ipython3",
   "version": "3.11.9"
  }
 },
 "nbformat": 4,
 "nbformat_minor": 5
}
