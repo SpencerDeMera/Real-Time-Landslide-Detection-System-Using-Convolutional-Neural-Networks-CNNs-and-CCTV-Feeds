{
 "cells": [
  {
   "cell_type": "markdown",
   "id": "1dfa6915-4669-44fb-a92d-fddd99f45640",
   "metadata": {},
   "source": [
    "# Dense Network"
   ]
  },
  {
   "cell_type": "markdown",
   "id": "01cc95d1-ed67-401f-8db0-996d382818ae",
   "metadata": {},
   "source": [
    "### Preprocess data as numpy"
   ]
  },
  {
   "cell_type": "code",
   "execution_count": null,
   "id": "8d5505e3-2382-47ad-b12f-84f1decb9370",
   "metadata": {},
   "outputs": [
    {
     "name": "stderr",
     "output_type": "stream",
     "text": [
      "2025-02-21 00:39:10.155673: W tensorflow/compiler/tf2tensorrt/utils/py_utils.cc:38] TF-TRT Warning: Could not find TensorRT\n"
     ]
    },
    {
     "name": "stdout",
     "output_type": "stream",
     "text": [
      "Debugging Enabled...\n",
      "[PhysicalDevice(name='/physical_device:GPU:0', device_type='GPU')]\n",
      "Loading and preprocessing training images...\n",
      "Skipping invalid image: ../RAW_CCTV_Images/landslides/flipped_0d38efb4-dab4-4509-843e-8f6036243a4c.jpg - Error: cannot identify image file '/home/jovyan/RAW_CCTV_Images/landslides/flipped_0d38efb4-dab4-4509-843e-8f6036243a4c.jpg'\n",
      "Skipping invalid image: ../RAW_CCTV_Images/landslides/brightened_2eb5f1e7-30d0-459f-ab9e-66714062eb9a.jpg - Error: cannot identify image file '/home/jovyan/RAW_CCTV_Images/landslides/brightened_2eb5f1e7-30d0-459f-ab9e-66714062eb9a.jpg'\n",
      "Skipping invalid image: ../RAW_CCTV_Images/landslides/flipped_6ccca85d-c327-451a-917b-4423aa72a3e6.jpg - Error: cannot identify image file '/home/jovyan/RAW_CCTV_Images/landslides/flipped_6ccca85d-c327-451a-917b-4423aa72a3e6.jpg'\n"
     ]
    }
   ],
   "source": [
    "import os\n",
    "from PIL import Image\n",
    "import numpy as np\n",
    "import pandas as pd\n",
    "import tensorflow as tf\n",
    "from tensorflow import keras\n",
    "from tensorflow.keras.models import Sequential\n",
    "from tensorflow.keras.layers import Dense, Activation, Dropout\n",
    "\n",
    "DEBUG = True\n",
    "\n",
    "if DEBUG:\n",
    "    print(\"Debugging Enabled...\")\n",
    "    print(tf.config.list_physical_devices('GPU'))\n",
    "\n",
    "CSV_PATH = 'CSV_Data/initialCSVLabels.csv'\n",
    "TRAIN_CSV_PATH = 'CSV_Data/initialLabeledTrain.csv'\n",
    "TEST_CSV_PATH = 'CSV_Data/initialLabeledTest.csv'\n",
    "\n",
    "numpySaves = \"NumPyDataSaves/Dense\"\n",
    "os.makedirs(numpySaves, exist_ok=True)\n",
    "\n",
    "ImgSize = (320,260)\n",
    "NumClasses = 2  # Binary classification: normal (0) vs landslide (1)\n",
    "BatchSize = 128\n",
    "EpochNum = 50\n",
    "\n",
    "trainDataFrame = pd.read_csv(TRAIN_CSV_PATH)\n",
    "testDataFrame = pd.read_csv(TEST_CSV_PATH)\n",
    "\n",
    "allResults = [] # to store results of all the runs\n",
    "\n",
    "def loadAndPreprocessImage(path):\n",
    "    try:\n",
    "        img = Image.open(path).convert(\"RGB\")  # Load image with PIL\n",
    "        img = np.array(img, dtype=np.float32) / 255.0  # Normalize\n",
    "        return img\n",
    "    except Exception as e:\n",
    "        print(f\"Skipping invalid image: {path} - Error: {e}\")\n",
    "        return None\n",
    "\n",
    "# Load images and labels\n",
    "if DEBUG:\n",
    "    print(\"Loading and preprocessing training images...\")\n",
    "trainImages = np.array([loadAndPreprocessImage(path) for path in trainDataFrame[\"file_path\"]])\n",
    "    \n",
    "if DEBUG:\n",
    "    print(\"Extracting training labels...\")\n",
    "trainLabels = np.array(train_df[\"label\"])\n",
    "    \n",
    "if DEBUG:\n",
    "    print(\"Loading and preprocessing test images...\")\n",
    "testImages = np.array([loadAndPreprocessImage(path) for path in testDataFrame[\"file_path\"]])\n",
    "    \n",
    "if DEBUG:\n",
    "    print(\"Extracting test labels...\")\n",
    "testLabels = np.array(test_df[\"label\"])\n",
    "\n",
    "# Convert labels to one-hot encoding (for softmax classification)\n",
    "trainLabels = to_categorical(trainLabels, num_classes=NumClasses)\n",
    "testLabels = to_categorical(testLabels, num_classes=NumClasses)\n",
    "\n",
    "# Split training data further into train and validation sets\n",
    "if DEBUG:\n",
    "    print(\"Generating validation images and labels...\")\n",
    "trainImages, valImages, trainLabels, valLabels = train_test_split(trainImages, trainLabels, test_size=0.2, random_state=42)\n",
    "\n",
    "if DEBUG:\n",
    "    print(\"Saving numpy array data...\")\n",
    "# Save training data\n",
    "np.save(os.path.join(numpySaves, \"trainImages.npy\"), trainImages)\n",
    "np.save(os.path.join(numpySaves, \"trainLabels.npy\"), trainLabels)\n",
    "# Save validation data\n",
    "np.save(os.path.join(numpySaves, \"valImages.npy\"), valImages)\n",
    "np.save(os.path.join(numpySaves, \"valLabels.npy\"), valLabels)\n",
    "# Save test data\n",
    "np.save(os.path.join(numpySaves, \"testImages.npy\"), testImages)\n",
    "np.save(os.path.join(numpySaves, \"testLabels.npy\"), testLabels)\n",
    "\n",
    "if DEBUG:\n",
    "    print(f\"Train: {trainImages.shape}, {trainLabels.shape}\")\n",
    "    print(f\"Validation: {valImages.shape}, {valLabels.shape}\")\n",
    "    print(f\"Test: {testImages.shape}, {testLabels.shape}\")\n"
   ]
  },
  {
   "cell_type": "markdown",
   "id": "68cccb6e-6eb0-4106-8468-d4a52d948b58",
   "metadata": {},
   "source": [
    "### Dense Network"
   ]
  },
  {
   "cell_type": "code",
   "execution_count": null,
   "id": "d9551a16-2426-4e7d-8f61-f0107eb8b00f",
   "metadata": {},
   "outputs": [],
   "source": [
    "if __name__ == '__main__':\n",
    "    if DEBUG:\n",
    "        print(f\"Train: {trainImages.shape}, {trainLabels.shape}\")\n",
    "        print(f\"Validation: {valImages.shape}, {valLabels.shape}\")\n",
    "        print(f\"Test: {testImages.shape}, {testLabels.shape}\")\n",
    "        \n",
    "    # trials = 15\n",
    "    # for i in range(trials):\n",
    "    #     results = denseNetwork(trainImages, trainLabels, valImages, valLabels, testImages, testLabels)\n",
    "    #     allResults.append(results)\n",
    "        \n",
    "    #     print(f'Random State: {i}\\nTest Accuracy: {100.0 * results[0]}\\nTest Loss: {results[1]}\\nTest Precision: {results[2]}')"
   ]
  }
 ],
 "metadata": {
  "kernelspec": {
   "display_name": "Python 3 (ipykernel)",
   "language": "python",
   "name": "python3"
  },
  "language_info": {
   "codemirror_mode": {
    "name": "ipython",
    "version": 3
   },
   "file_extension": ".py",
   "mimetype": "text/x-python",
   "name": "python",
   "nbconvert_exporter": "python",
   "pygments_lexer": "ipython3",
   "version": "3.11.9"
  }
 },
 "nbformat": 4,
 "nbformat_minor": 5
}
